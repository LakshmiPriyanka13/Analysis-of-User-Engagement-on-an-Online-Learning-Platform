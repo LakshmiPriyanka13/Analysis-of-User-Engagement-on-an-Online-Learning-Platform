{
 "cells": [
  {
   "cell_type": "markdown",
   "id": "b1f04b50-c709-4433-a619-1a783f544369",
   "metadata": {},
   "source": [
    "## Data cleaning and Preparation"
   ]
  },
  {
   "cell_type": "code",
   "execution_count": 280,
   "id": "46224cf4-4b40-4b5c-99d4-9f601cd262c5",
   "metadata": {},
   "outputs": [],
   "source": [
    "import pandas as pd"
   ]
  },
  {
   "cell_type": "markdown",
   "id": "564d8bf6-8336-4a17-8713-fbabcd30ee05",
   "metadata": {},
   "source": [
    "Loading the students data from the CSV file into a DataFrame for ease of data cleaning and processing"
   ]
  },
  {
   "cell_type": "code",
   "execution_count": 283,
   "id": "363e9505-65c1-4b20-8d72-6ecd46126196",
   "metadata": {},
   "outputs": [
    {
     "data": {
      "text/html": [
       "<div>\n",
       "<style scoped>\n",
       "    .dataframe tbody tr th:only-of-type {\n",
       "        vertical-align: middle;\n",
       "    }\n",
       "\n",
       "    .dataframe tbody tr th {\n",
       "        vertical-align: top;\n",
       "    }\n",
       "\n",
       "    .dataframe thead th {\n",
       "        text-align: right;\n",
       "    }\n",
       "</style>\n",
       "<table border=\"1\" class=\"dataframe\">\n",
       "  <thead>\n",
       "    <tr style=\"text-align: right;\">\n",
       "      <th></th>\n",
       "      <th>Student_ID</th>\n",
       "      <th>Name</th>\n",
       "      <th>Age</th>\n",
       "      <th>Gender</th>\n",
       "      <th>Location</th>\n",
       "      <th>Enrolment_Date</th>\n",
       "    </tr>\n",
       "  </thead>\n",
       "  <tbody>\n",
       "    <tr>\n",
       "      <th>0</th>\n",
       "      <td>S001</td>\n",
       "      <td>Student_1</td>\n",
       "      <td>24</td>\n",
       "      <td>Female</td>\n",
       "      <td>Kolkata</td>\n",
       "      <td>24/11/2023</td>\n",
       "    </tr>\n",
       "    <tr>\n",
       "      <th>1</th>\n",
       "      <td>S002</td>\n",
       "      <td>Student_2</td>\n",
       "      <td>32</td>\n",
       "      <td>Other</td>\n",
       "      <td>Chennai</td>\n",
       "      <td>27/02/2023</td>\n",
       "    </tr>\n",
       "    <tr>\n",
       "      <th>2</th>\n",
       "      <td>S003</td>\n",
       "      <td>Student_3</td>\n",
       "      <td>28</td>\n",
       "      <td>Other</td>\n",
       "      <td>Mumbai</td>\n",
       "      <td>13/01/2023</td>\n",
       "    </tr>\n",
       "    <tr>\n",
       "      <th>3</th>\n",
       "      <td>S004</td>\n",
       "      <td>Student_4</td>\n",
       "      <td>25</td>\n",
       "      <td>Female</td>\n",
       "      <td>Bangalore</td>\n",
       "      <td>21/05/2023</td>\n",
       "    </tr>\n",
       "    <tr>\n",
       "      <th>4</th>\n",
       "      <td>S005</td>\n",
       "      <td>Student_5</td>\n",
       "      <td>24</td>\n",
       "      <td>Other</td>\n",
       "      <td>Delhi</td>\n",
       "      <td>06/05/2023</td>\n",
       "    </tr>\n",
       "    <tr>\n",
       "      <th>...</th>\n",
       "      <td>...</td>\n",
       "      <td>...</td>\n",
       "      <td>...</td>\n",
       "      <td>...</td>\n",
       "      <td>...</td>\n",
       "      <td>...</td>\n",
       "    </tr>\n",
       "    <tr>\n",
       "      <th>95</th>\n",
       "      <td>S096</td>\n",
       "      <td>Student_96</td>\n",
       "      <td>32</td>\n",
       "      <td>Other</td>\n",
       "      <td>Chennai</td>\n",
       "      <td>19/12/2023</td>\n",
       "    </tr>\n",
       "    <tr>\n",
       "      <th>96</th>\n",
       "      <td>S097</td>\n",
       "      <td>Student_97</td>\n",
       "      <td>31</td>\n",
       "      <td>Other</td>\n",
       "      <td>Chennai</td>\n",
       "      <td>13/10/2023</td>\n",
       "    </tr>\n",
       "    <tr>\n",
       "      <th>97</th>\n",
       "      <td>S098</td>\n",
       "      <td>Student_98</td>\n",
       "      <td>20</td>\n",
       "      <td>Other</td>\n",
       "      <td>Kolkata</td>\n",
       "      <td>23/04/2023</td>\n",
       "    </tr>\n",
       "    <tr>\n",
       "      <th>98</th>\n",
       "      <td>S099</td>\n",
       "      <td>Student_99</td>\n",
       "      <td>18</td>\n",
       "      <td>Male</td>\n",
       "      <td>Kolkata</td>\n",
       "      <td>17/12/2023</td>\n",
       "    </tr>\n",
       "    <tr>\n",
       "      <th>99</th>\n",
       "      <td>S100</td>\n",
       "      <td>Student_100</td>\n",
       "      <td>22</td>\n",
       "      <td>Other</td>\n",
       "      <td>Bangalore</td>\n",
       "      <td>16/06/2023</td>\n",
       "    </tr>\n",
       "  </tbody>\n",
       "</table>\n",
       "<p>100 rows × 6 columns</p>\n",
       "</div>"
      ],
      "text/plain": [
       "   Student_ID         Name  Age  Gender   Location Enrolment_Date\n",
       "0        S001    Student_1   24  Female    Kolkata     24/11/2023\n",
       "1        S002    Student_2   32   Other    Chennai     27/02/2023\n",
       "2        S003    Student_3   28   Other     Mumbai     13/01/2023\n",
       "3        S004    Student_4   25  Female  Bangalore     21/05/2023\n",
       "4        S005    Student_5   24   Other      Delhi     06/05/2023\n",
       "..        ...          ...  ...     ...        ...            ...\n",
       "95       S096   Student_96   32   Other    Chennai     19/12/2023\n",
       "96       S097   Student_97   31   Other    Chennai     13/10/2023\n",
       "97       S098   Student_98   20   Other    Kolkata     23/04/2023\n",
       "98       S099   Student_99   18    Male    Kolkata     17/12/2023\n",
       "99       S100  Student_100   22   Other  Bangalore     16/06/2023\n",
       "\n",
       "[100 rows x 6 columns]"
      ]
     },
     "execution_count": 283,
     "metadata": {},
     "output_type": "execute_result"
    }
   ],
   "source": [
    "Students = pd.read_csv(\"students.csv\")\n",
    "Students"
   ]
  },
  {
   "cell_type": "markdown",
   "id": "287a8054-829f-4303-8997-d1632353a0c5",
   "metadata": {},
   "source": [
    "Using `Students.info()` to inspect the dataset. This helps verify that each column has the appropriate data type, identify the number of rows and columns, and check for any null values.\n"
   ]
  },
  {
   "cell_type": "code",
   "execution_count": 286,
   "id": "023ddcf1-8fd4-4411-afb4-009847bee65e",
   "metadata": {},
   "outputs": [
    {
     "name": "stdout",
     "output_type": "stream",
     "text": [
      "<class 'pandas.core.frame.DataFrame'>\n",
      "RangeIndex: 100 entries, 0 to 99\n",
      "Data columns (total 6 columns):\n",
      " #   Column          Non-Null Count  Dtype \n",
      "---  ------          --------------  ----- \n",
      " 0   Student_ID      100 non-null    object\n",
      " 1   Name            100 non-null    object\n",
      " 2   Age             100 non-null    int64 \n",
      " 3   Gender          100 non-null    object\n",
      " 4   Location        100 non-null    object\n",
      " 5   Enrolment_Date  100 non-null    object\n",
      "dtypes: int64(1), object(5)\n",
      "memory usage: 4.8+ KB\n"
     ]
    }
   ],
   "source": [
    "Students.info()"
   ]
  },
  {
   "cell_type": "markdown",
   "id": "d89b525a-2cd6-452e-91b1-4fd516d9eebb",
   "metadata": {},
   "source": [
    "As observed in the previous step, the `Enrolment_Date` column is of object data type. We are now converting it to datetime format to enable proper date-based operations and analysis.\n"
   ]
  },
  {
   "cell_type": "code",
   "execution_count": 289,
   "id": "91313f7f-3785-4a54-aecd-c6f2adf78ab4",
   "metadata": {},
   "outputs": [
    {
     "name": "stdout",
     "output_type": "stream",
     "text": [
      "<class 'pandas.core.frame.DataFrame'>\n",
      "RangeIndex: 100 entries, 0 to 99\n",
      "Data columns (total 6 columns):\n",
      " #   Column          Non-Null Count  Dtype         \n",
      "---  ------          --------------  -----         \n",
      " 0   Student_ID      100 non-null    object        \n",
      " 1   Name            100 non-null    object        \n",
      " 2   Age             100 non-null    int64         \n",
      " 3   Gender          100 non-null    object        \n",
      " 4   Location        100 non-null    object        \n",
      " 5   Enrolment_Date  100 non-null    datetime64[ns]\n",
      "dtypes: datetime64[ns](1), int64(1), object(4)\n",
      "memory usage: 4.8+ KB\n"
     ]
    }
   ],
   "source": [
    "Students['Enrolment_Date'] = pd.to_datetime(Students['Enrolment_Date'], dayfirst=True)\n",
    "Students.info()"
   ]
  },
  {
   "cell_type": "markdown",
   "id": "6d90398f-daa2-4e06-8d01-f9b5397b19e0",
   "metadata": {},
   "source": [
    "Checking for null values"
   ]
  },
  {
   "cell_type": "code",
   "execution_count": 292,
   "id": "6b326deb-41c7-4b16-a696-33ab7a3dbdf2",
   "metadata": {},
   "outputs": [
    {
     "data": {
      "text/plain": [
       "Student_ID        0\n",
       "Name              0\n",
       "Age               0\n",
       "Gender            0\n",
       "Location          0\n",
       "Enrolment_Date    0\n",
       "dtype: int64"
      ]
     },
     "execution_count": 292,
     "metadata": {},
     "output_type": "execute_result"
    }
   ],
   "source": [
    "Students.isnull().sum()"
   ]
  },
  {
   "cell_type": "markdown",
   "id": "cc86ad1e-c327-4db8-b5e3-4fb72b589683",
   "metadata": {},
   "source": [
    "Checking if there is any duplicated values in this dataset"
   ]
  },
  {
   "cell_type": "code",
   "execution_count": 295,
   "id": "18eea84d-6c99-418e-8225-65ece0c8848e",
   "metadata": {},
   "outputs": [
    {
     "data": {
      "text/plain": [
       "0"
      ]
     },
     "execution_count": 295,
     "metadata": {},
     "output_type": "execute_result"
    }
   ],
   "source": [
    "Students.duplicated().sum()"
   ]
  },
  {
   "cell_type": "markdown",
   "id": "d45d0a24-0cef-4d84-9f48-aabd57a9f87e",
   "metadata": {},
   "source": [
    "Since there are no null or duplicate values in the dataset, no further data cleaning is required. We can now proceed to the next dataset.\n"
   ]
  },
  {
   "cell_type": "code",
   "execution_count": 298,
   "id": "74ba5f30-712d-42d8-8d81-251f6f7d2a08",
   "metadata": {},
   "outputs": [
    {
     "data": {
      "text/html": [
       "<div>\n",
       "<style scoped>\n",
       "    .dataframe tbody tr th:only-of-type {\n",
       "        vertical-align: middle;\n",
       "    }\n",
       "\n",
       "    .dataframe tbody tr th {\n",
       "        vertical-align: top;\n",
       "    }\n",
       "\n",
       "    .dataframe thead th {\n",
       "        text-align: right;\n",
       "    }\n",
       "</style>\n",
       "<table border=\"1\" class=\"dataframe\">\n",
       "  <thead>\n",
       "    <tr style=\"text-align: right;\">\n",
       "      <th></th>\n",
       "      <th>Student_ID</th>\n",
       "      <th>Name</th>\n",
       "      <th>Age</th>\n",
       "      <th>Gender</th>\n",
       "      <th>Location</th>\n",
       "      <th>Enrolment_Date</th>\n",
       "    </tr>\n",
       "  </thead>\n",
       "  <tbody>\n",
       "    <tr>\n",
       "      <th>0</th>\n",
       "      <td>S001</td>\n",
       "      <td>Student_1</td>\n",
       "      <td>24</td>\n",
       "      <td>Female</td>\n",
       "      <td>Kolkata</td>\n",
       "      <td>2023-11-24</td>\n",
       "    </tr>\n",
       "    <tr>\n",
       "      <th>1</th>\n",
       "      <td>S002</td>\n",
       "      <td>Student_2</td>\n",
       "      <td>32</td>\n",
       "      <td>Other</td>\n",
       "      <td>Chennai</td>\n",
       "      <td>2023-02-27</td>\n",
       "    </tr>\n",
       "    <tr>\n",
       "      <th>2</th>\n",
       "      <td>S003</td>\n",
       "      <td>Student_3</td>\n",
       "      <td>28</td>\n",
       "      <td>Other</td>\n",
       "      <td>Mumbai</td>\n",
       "      <td>2023-01-13</td>\n",
       "    </tr>\n",
       "    <tr>\n",
       "      <th>3</th>\n",
       "      <td>S004</td>\n",
       "      <td>Student_4</td>\n",
       "      <td>25</td>\n",
       "      <td>Female</td>\n",
       "      <td>Bangalore</td>\n",
       "      <td>2023-05-21</td>\n",
       "    </tr>\n",
       "    <tr>\n",
       "      <th>4</th>\n",
       "      <td>S005</td>\n",
       "      <td>Student_5</td>\n",
       "      <td>24</td>\n",
       "      <td>Other</td>\n",
       "      <td>Delhi</td>\n",
       "      <td>2023-05-06</td>\n",
       "    </tr>\n",
       "    <tr>\n",
       "      <th>...</th>\n",
       "      <td>...</td>\n",
       "      <td>...</td>\n",
       "      <td>...</td>\n",
       "      <td>...</td>\n",
       "      <td>...</td>\n",
       "      <td>...</td>\n",
       "    </tr>\n",
       "    <tr>\n",
       "      <th>95</th>\n",
       "      <td>S096</td>\n",
       "      <td>Student_96</td>\n",
       "      <td>32</td>\n",
       "      <td>Other</td>\n",
       "      <td>Chennai</td>\n",
       "      <td>2023-12-19</td>\n",
       "    </tr>\n",
       "    <tr>\n",
       "      <th>96</th>\n",
       "      <td>S097</td>\n",
       "      <td>Student_97</td>\n",
       "      <td>31</td>\n",
       "      <td>Other</td>\n",
       "      <td>Chennai</td>\n",
       "      <td>2023-10-13</td>\n",
       "    </tr>\n",
       "    <tr>\n",
       "      <th>97</th>\n",
       "      <td>S098</td>\n",
       "      <td>Student_98</td>\n",
       "      <td>20</td>\n",
       "      <td>Other</td>\n",
       "      <td>Kolkata</td>\n",
       "      <td>2023-04-23</td>\n",
       "    </tr>\n",
       "    <tr>\n",
       "      <th>98</th>\n",
       "      <td>S099</td>\n",
       "      <td>Student_99</td>\n",
       "      <td>18</td>\n",
       "      <td>Male</td>\n",
       "      <td>Kolkata</td>\n",
       "      <td>2023-12-17</td>\n",
       "    </tr>\n",
       "    <tr>\n",
       "      <th>99</th>\n",
       "      <td>S100</td>\n",
       "      <td>Student_100</td>\n",
       "      <td>22</td>\n",
       "      <td>Other</td>\n",
       "      <td>Bangalore</td>\n",
       "      <td>2023-06-16</td>\n",
       "    </tr>\n",
       "  </tbody>\n",
       "</table>\n",
       "<p>100 rows × 6 columns</p>\n",
       "</div>"
      ],
      "text/plain": [
       "   Student_ID         Name  Age  Gender   Location Enrolment_Date\n",
       "0        S001    Student_1   24  Female    Kolkata     2023-11-24\n",
       "1        S002    Student_2   32   Other    Chennai     2023-02-27\n",
       "2        S003    Student_3   28   Other     Mumbai     2023-01-13\n",
       "3        S004    Student_4   25  Female  Bangalore     2023-05-21\n",
       "4        S005    Student_5   24   Other      Delhi     2023-05-06\n",
       "..        ...          ...  ...     ...        ...            ...\n",
       "95       S096   Student_96   32   Other    Chennai     2023-12-19\n",
       "96       S097   Student_97   31   Other    Chennai     2023-10-13\n",
       "97       S098   Student_98   20   Other    Kolkata     2023-04-23\n",
       "98       S099   Student_99   18    Male    Kolkata     2023-12-17\n",
       "99       S100  Student_100   22   Other  Bangalore     2023-06-16\n",
       "\n",
       "[100 rows x 6 columns]"
      ]
     },
     "execution_count": 298,
     "metadata": {},
     "output_type": "execute_result"
    }
   ],
   "source": [
    "Students"
   ]
  },
  {
   "cell_type": "markdown",
   "id": "f20985b1-817d-4a3a-a0ca-26b42bc11870",
   "metadata": {},
   "source": [
    "Loading the `Course_activity` data from the CSV file into a DataFrame for ease of data cleaning and processing"
   ]
  },
  {
   "cell_type": "code",
   "execution_count": 301,
   "id": "23e85a4e-335f-4a29-8546-86e2c7d1d984",
   "metadata": {},
   "outputs": [
    {
     "data": {
      "text/html": [
       "<div>\n",
       "<style scoped>\n",
       "    .dataframe tbody tr th:only-of-type {\n",
       "        vertical-align: middle;\n",
       "    }\n",
       "\n",
       "    .dataframe tbody tr th {\n",
       "        vertical-align: top;\n",
       "    }\n",
       "\n",
       "    .dataframe thead th {\n",
       "        text-align: right;\n",
       "    }\n",
       "</style>\n",
       "<table border=\"1\" class=\"dataframe\">\n",
       "  <thead>\n",
       "    <tr style=\"text-align: right;\">\n",
       "      <th></th>\n",
       "      <th>Student_ID</th>\n",
       "      <th>Course_ID</th>\n",
       "      <th>Date</th>\n",
       "      <th>Time_Spent_Minutes</th>\n",
       "      <th>Completion_Percentage</th>\n",
       "    </tr>\n",
       "  </thead>\n",
       "  <tbody>\n",
       "    <tr>\n",
       "      <th>0</th>\n",
       "      <td>S001</td>\n",
       "      <td>PY202</td>\n",
       "      <td>05/01/2024</td>\n",
       "      <td>90</td>\n",
       "      <td>46.10</td>\n",
       "    </tr>\n",
       "    <tr>\n",
       "      <th>1</th>\n",
       "      <td>S001</td>\n",
       "      <td>DM101</td>\n",
       "      <td>28/01/2024</td>\n",
       "      <td>155</td>\n",
       "      <td>88.87</td>\n",
       "    </tr>\n",
       "    <tr>\n",
       "      <th>2</th>\n",
       "      <td>S001</td>\n",
       "      <td>UX303</td>\n",
       "      <td>28/01/2024</td>\n",
       "      <td>177</td>\n",
       "      <td>54.93</td>\n",
       "    </tr>\n",
       "    <tr>\n",
       "      <th>3</th>\n",
       "      <td>S002</td>\n",
       "      <td>PY202</td>\n",
       "      <td>03/02/2024</td>\n",
       "      <td>45</td>\n",
       "      <td>32.20</td>\n",
       "    </tr>\n",
       "    <tr>\n",
       "      <th>4</th>\n",
       "      <td>S002</td>\n",
       "      <td>UX303</td>\n",
       "      <td>15/03/2024</td>\n",
       "      <td>119</td>\n",
       "      <td>90.80</td>\n",
       "    </tr>\n",
       "    <tr>\n",
       "      <th>...</th>\n",
       "      <td>...</td>\n",
       "      <td>...</td>\n",
       "      <td>...</td>\n",
       "      <td>...</td>\n",
       "      <td>...</td>\n",
       "    </tr>\n",
       "    <tr>\n",
       "      <th>654</th>\n",
       "      <td>S100</td>\n",
       "      <td>PY202</td>\n",
       "      <td>03/03/2024</td>\n",
       "      <td>83</td>\n",
       "      <td>22.63</td>\n",
       "    </tr>\n",
       "    <tr>\n",
       "      <th>655</th>\n",
       "      <td>S100</td>\n",
       "      <td>UX303</td>\n",
       "      <td>27/02/2024</td>\n",
       "      <td>168</td>\n",
       "      <td>14.83</td>\n",
       "    </tr>\n",
       "    <tr>\n",
       "      <th>656</th>\n",
       "      <td>S100</td>\n",
       "      <td>UX303</td>\n",
       "      <td>02/01/2024</td>\n",
       "      <td>134</td>\n",
       "      <td>22.29</td>\n",
       "    </tr>\n",
       "    <tr>\n",
       "      <th>657</th>\n",
       "      <td>S100</td>\n",
       "      <td>WD404</td>\n",
       "      <td>12/03/2024</td>\n",
       "      <td>139</td>\n",
       "      <td>68.78</td>\n",
       "    </tr>\n",
       "    <tr>\n",
       "      <th>658</th>\n",
       "      <td>S100</td>\n",
       "      <td>WD404</td>\n",
       "      <td>28/03/2024</td>\n",
       "      <td>135</td>\n",
       "      <td>47.41</td>\n",
       "    </tr>\n",
       "  </tbody>\n",
       "</table>\n",
       "<p>659 rows × 5 columns</p>\n",
       "</div>"
      ],
      "text/plain": [
       "    Student_ID Course_ID        Date  Time_Spent_Minutes  \\\n",
       "0         S001     PY202  05/01/2024                  90   \n",
       "1         S001     DM101  28/01/2024                 155   \n",
       "2         S001     UX303  28/01/2024                 177   \n",
       "3         S002     PY202  03/02/2024                  45   \n",
       "4         S002     UX303  15/03/2024                 119   \n",
       "..         ...       ...         ...                 ...   \n",
       "654       S100     PY202  03/03/2024                  83   \n",
       "655       S100     UX303  27/02/2024                 168   \n",
       "656       S100     UX303  02/01/2024                 134   \n",
       "657       S100     WD404  12/03/2024                 139   \n",
       "658       S100     WD404  28/03/2024                 135   \n",
       "\n",
       "     Completion_Percentage  \n",
       "0                    46.10  \n",
       "1                    88.87  \n",
       "2                    54.93  \n",
       "3                    32.20  \n",
       "4                    90.80  \n",
       "..                     ...  \n",
       "654                  22.63  \n",
       "655                  14.83  \n",
       "656                  22.29  \n",
       "657                  68.78  \n",
       "658                  47.41  \n",
       "\n",
       "[659 rows x 5 columns]"
      ]
     },
     "execution_count": 301,
     "metadata": {},
     "output_type": "execute_result"
    }
   ],
   "source": [
    "Course_activity = pd.read_csv(\"course_activity.csv\")\n",
    "Course_activity                           "
   ]
  },
  {
   "cell_type": "markdown",
   "id": "038d8e64-1437-4693-b671-1b02ae30da8c",
   "metadata": {},
   "source": [
    "Using `Course_activity.info()` to inspect the dataset. This helps verify that each column has the appropriate data type, identify the number of rows and columns, and check for any null values."
   ]
  },
  {
   "cell_type": "code",
   "execution_count": 304,
   "id": "be667bcd-dfc9-4815-88bd-df620a70ab05",
   "metadata": {},
   "outputs": [
    {
     "name": "stdout",
     "output_type": "stream",
     "text": [
      "<class 'pandas.core.frame.DataFrame'>\n",
      "RangeIndex: 659 entries, 0 to 658\n",
      "Data columns (total 5 columns):\n",
      " #   Column                 Non-Null Count  Dtype  \n",
      "---  ------                 --------------  -----  \n",
      " 0   Student_ID             659 non-null    object \n",
      " 1   Course_ID              659 non-null    object \n",
      " 2   Date                   659 non-null    object \n",
      " 3   Time_Spent_Minutes     659 non-null    int64  \n",
      " 4   Completion_Percentage  659 non-null    float64\n",
      "dtypes: float64(1), int64(1), object(3)\n",
      "memory usage: 25.9+ KB\n"
     ]
    }
   ],
   "source": [
    "Course_activity.info()"
   ]
  },
  {
   "cell_type": "markdown",
   "id": "8de3d156-43b5-49ec-89b5-b6e7f6a1689d",
   "metadata": {},
   "source": [
    "As observed in the previous step, the `Date` column is of object data type. We are now converting it to datetime format to enable proper date-based operations and analysis."
   ]
  },
  {
   "cell_type": "code",
   "execution_count": 307,
   "id": "c7038986-6658-4401-ba47-24b1d50fc113",
   "metadata": {},
   "outputs": [
    {
     "name": "stdout",
     "output_type": "stream",
     "text": [
      "<class 'pandas.core.frame.DataFrame'>\n",
      "RangeIndex: 659 entries, 0 to 658\n",
      "Data columns (total 5 columns):\n",
      " #   Column                 Non-Null Count  Dtype         \n",
      "---  ------                 --------------  -----         \n",
      " 0   Student_ID             659 non-null    object        \n",
      " 1   Course_ID              659 non-null    object        \n",
      " 2   Date                   659 non-null    datetime64[ns]\n",
      " 3   Time_Spent_Minutes     659 non-null    int64         \n",
      " 4   Completion_Percentage  659 non-null    float64       \n",
      "dtypes: datetime64[ns](1), float64(1), int64(1), object(2)\n",
      "memory usage: 25.9+ KB\n"
     ]
    }
   ],
   "source": [
    "Course_activity['Date'] = pd.to_datetime(Course_activity['Date'], dayfirst=True)\n",
    "Course_activity.info()"
   ]
  },
  {
   "cell_type": "markdown",
   "id": "c7b1b79b-2623-40cb-b3e6-54688e56f93a",
   "metadata": {},
   "source": [
    "Checking for null values"
   ]
  },
  {
   "cell_type": "code",
   "execution_count": 310,
   "id": "d4a50bb4-e4b8-462a-8b34-e3a215d9ecd5",
   "metadata": {},
   "outputs": [
    {
     "data": {
      "text/plain": [
       "Student_ID               0\n",
       "Course_ID                0\n",
       "Date                     0\n",
       "Time_Spent_Minutes       0\n",
       "Completion_Percentage    0\n",
       "dtype: int64"
      ]
     },
     "execution_count": 310,
     "metadata": {},
     "output_type": "execute_result"
    }
   ],
   "source": [
    "Course_activity.isnull().sum()"
   ]
  },
  {
   "cell_type": "markdown",
   "id": "84ff791d-c721-445c-9162-f9c7911f8932",
   "metadata": {},
   "source": [
    "Checking for duplicate values in the dataset"
   ]
  },
  {
   "cell_type": "code",
   "execution_count": 313,
   "id": "3cb5fb19-1f40-40c5-8b7a-a4d6b4f4569b",
   "metadata": {},
   "outputs": [
    {
     "data": {
      "text/plain": [
       "0"
      ]
     },
     "execution_count": 313,
     "metadata": {},
     "output_type": "execute_result"
    }
   ],
   "source": [
    "Course_activity.duplicated().sum()"
   ]
  },
  {
   "cell_type": "markdown",
   "id": "0590401c-e86d-4d44-afd0-0d45ed50d968",
   "metadata": {},
   "source": [
    "Since there are no null or duplicate values in the dataset, no further data cleaning is required. We can now proceed to the next dataset.\n"
   ]
  },
  {
   "cell_type": "code",
   "execution_count": 316,
   "id": "e91c48af-3199-4e58-9c77-3fb30732b474",
   "metadata": {},
   "outputs": [
    {
     "data": {
      "text/html": [
       "<div>\n",
       "<style scoped>\n",
       "    .dataframe tbody tr th:only-of-type {\n",
       "        vertical-align: middle;\n",
       "    }\n",
       "\n",
       "    .dataframe tbody tr th {\n",
       "        vertical-align: top;\n",
       "    }\n",
       "\n",
       "    .dataframe thead th {\n",
       "        text-align: right;\n",
       "    }\n",
       "</style>\n",
       "<table border=\"1\" class=\"dataframe\">\n",
       "  <thead>\n",
       "    <tr style=\"text-align: right;\">\n",
       "      <th></th>\n",
       "      <th>Student_ID</th>\n",
       "      <th>Course_ID</th>\n",
       "      <th>Date</th>\n",
       "      <th>Time_Spent_Minutes</th>\n",
       "      <th>Completion_Percentage</th>\n",
       "    </tr>\n",
       "  </thead>\n",
       "  <tbody>\n",
       "    <tr>\n",
       "      <th>0</th>\n",
       "      <td>S001</td>\n",
       "      <td>PY202</td>\n",
       "      <td>2024-01-05</td>\n",
       "      <td>90</td>\n",
       "      <td>46.10</td>\n",
       "    </tr>\n",
       "    <tr>\n",
       "      <th>1</th>\n",
       "      <td>S001</td>\n",
       "      <td>DM101</td>\n",
       "      <td>2024-01-28</td>\n",
       "      <td>155</td>\n",
       "      <td>88.87</td>\n",
       "    </tr>\n",
       "    <tr>\n",
       "      <th>2</th>\n",
       "      <td>S001</td>\n",
       "      <td>UX303</td>\n",
       "      <td>2024-01-28</td>\n",
       "      <td>177</td>\n",
       "      <td>54.93</td>\n",
       "    </tr>\n",
       "    <tr>\n",
       "      <th>3</th>\n",
       "      <td>S002</td>\n",
       "      <td>PY202</td>\n",
       "      <td>2024-02-03</td>\n",
       "      <td>45</td>\n",
       "      <td>32.20</td>\n",
       "    </tr>\n",
       "    <tr>\n",
       "      <th>4</th>\n",
       "      <td>S002</td>\n",
       "      <td>UX303</td>\n",
       "      <td>2024-03-15</td>\n",
       "      <td>119</td>\n",
       "      <td>90.80</td>\n",
       "    </tr>\n",
       "    <tr>\n",
       "      <th>...</th>\n",
       "      <td>...</td>\n",
       "      <td>...</td>\n",
       "      <td>...</td>\n",
       "      <td>...</td>\n",
       "      <td>...</td>\n",
       "    </tr>\n",
       "    <tr>\n",
       "      <th>654</th>\n",
       "      <td>S100</td>\n",
       "      <td>PY202</td>\n",
       "      <td>2024-03-03</td>\n",
       "      <td>83</td>\n",
       "      <td>22.63</td>\n",
       "    </tr>\n",
       "    <tr>\n",
       "      <th>655</th>\n",
       "      <td>S100</td>\n",
       "      <td>UX303</td>\n",
       "      <td>2024-02-27</td>\n",
       "      <td>168</td>\n",
       "      <td>14.83</td>\n",
       "    </tr>\n",
       "    <tr>\n",
       "      <th>656</th>\n",
       "      <td>S100</td>\n",
       "      <td>UX303</td>\n",
       "      <td>2024-01-02</td>\n",
       "      <td>134</td>\n",
       "      <td>22.29</td>\n",
       "    </tr>\n",
       "    <tr>\n",
       "      <th>657</th>\n",
       "      <td>S100</td>\n",
       "      <td>WD404</td>\n",
       "      <td>2024-03-12</td>\n",
       "      <td>139</td>\n",
       "      <td>68.78</td>\n",
       "    </tr>\n",
       "    <tr>\n",
       "      <th>658</th>\n",
       "      <td>S100</td>\n",
       "      <td>WD404</td>\n",
       "      <td>2024-03-28</td>\n",
       "      <td>135</td>\n",
       "      <td>47.41</td>\n",
       "    </tr>\n",
       "  </tbody>\n",
       "</table>\n",
       "<p>659 rows × 5 columns</p>\n",
       "</div>"
      ],
      "text/plain": [
       "    Student_ID Course_ID       Date  Time_Spent_Minutes  Completion_Percentage\n",
       "0         S001     PY202 2024-01-05                  90                  46.10\n",
       "1         S001     DM101 2024-01-28                 155                  88.87\n",
       "2         S001     UX303 2024-01-28                 177                  54.93\n",
       "3         S002     PY202 2024-02-03                  45                  32.20\n",
       "4         S002     UX303 2024-03-15                 119                  90.80\n",
       "..         ...       ...        ...                 ...                    ...\n",
       "654       S100     PY202 2024-03-03                  83                  22.63\n",
       "655       S100     UX303 2024-02-27                 168                  14.83\n",
       "656       S100     UX303 2024-01-02                 134                  22.29\n",
       "657       S100     WD404 2024-03-12                 139                  68.78\n",
       "658       S100     WD404 2024-03-28                 135                  47.41\n",
       "\n",
       "[659 rows x 5 columns]"
      ]
     },
     "execution_count": 316,
     "metadata": {},
     "output_type": "execute_result"
    }
   ],
   "source": [
    "Course_activity"
   ]
  },
  {
   "cell_type": "markdown",
   "id": "4b448bdb-1e10-4321-adc0-7291dd1b5181",
   "metadata": {},
   "source": [
    "Loading the Feedback data from the CSV file into a DataFrame for ease of data cleaning and processing\r\n"
   ]
  },
  {
   "cell_type": "code",
   "execution_count": 319,
   "id": "d7a5057f-6d08-4030-bf5b-88ade6bbd5e0",
   "metadata": {},
   "outputs": [
    {
     "data": {
      "text/html": [
       "<div>\n",
       "<style scoped>\n",
       "    .dataframe tbody tr th:only-of-type {\n",
       "        vertical-align: middle;\n",
       "    }\n",
       "\n",
       "    .dataframe tbody tr th {\n",
       "        vertical-align: top;\n",
       "    }\n",
       "\n",
       "    .dataframe thead th {\n",
       "        text-align: right;\n",
       "    }\n",
       "</style>\n",
       "<table border=\"1\" class=\"dataframe\">\n",
       "  <thead>\n",
       "    <tr style=\"text-align: right;\">\n",
       "      <th></th>\n",
       "      <th>Student_ID</th>\n",
       "      <th>Course_ID</th>\n",
       "      <th>Rating</th>\n",
       "      <th>Feedback_Text</th>\n",
       "    </tr>\n",
       "  </thead>\n",
       "  <tbody>\n",
       "    <tr>\n",
       "      <th>0</th>\n",
       "      <td>S057</td>\n",
       "      <td>UX303</td>\n",
       "      <td>2</td>\n",
       "      <td>Too fast-paced</td>\n",
       "    </tr>\n",
       "    <tr>\n",
       "      <th>1</th>\n",
       "      <td>S063</td>\n",
       "      <td>PY202</td>\n",
       "      <td>2</td>\n",
       "      <td>Loved the examples</td>\n",
       "    </tr>\n",
       "    <tr>\n",
       "      <th>2</th>\n",
       "      <td>S022</td>\n",
       "      <td>PY202</td>\n",
       "      <td>4</td>\n",
       "      <td>Could be better</td>\n",
       "    </tr>\n",
       "    <tr>\n",
       "      <th>3</th>\n",
       "      <td>S011</td>\n",
       "      <td>PY202</td>\n",
       "      <td>5</td>\n",
       "      <td>Needs improvement</td>\n",
       "    </tr>\n",
       "    <tr>\n",
       "      <th>4</th>\n",
       "      <td>S073</td>\n",
       "      <td>WD404</td>\n",
       "      <td>4</td>\n",
       "      <td>Could be better</td>\n",
       "    </tr>\n",
       "    <tr>\n",
       "      <th>...</th>\n",
       "      <td>...</td>\n",
       "      <td>...</td>\n",
       "      <td>...</td>\n",
       "      <td>...</td>\n",
       "    </tr>\n",
       "    <tr>\n",
       "      <th>75</th>\n",
       "      <td>S087</td>\n",
       "      <td>DM101</td>\n",
       "      <td>1</td>\n",
       "      <td>Well structured</td>\n",
       "    </tr>\n",
       "    <tr>\n",
       "      <th>76</th>\n",
       "      <td>S065</td>\n",
       "      <td>DM101</td>\n",
       "      <td>4</td>\n",
       "      <td>Loved the examples</td>\n",
       "    </tr>\n",
       "    <tr>\n",
       "      <th>77</th>\n",
       "      <td>S082</td>\n",
       "      <td>WD404</td>\n",
       "      <td>2</td>\n",
       "      <td>Too fast-paced</td>\n",
       "    </tr>\n",
       "    <tr>\n",
       "      <th>78</th>\n",
       "      <td>S067</td>\n",
       "      <td>DM101</td>\n",
       "      <td>5</td>\n",
       "      <td>Excellent instructor</td>\n",
       "    </tr>\n",
       "    <tr>\n",
       "      <th>79</th>\n",
       "      <td>S002</td>\n",
       "      <td>PY202</td>\n",
       "      <td>3</td>\n",
       "      <td>Well structured</td>\n",
       "    </tr>\n",
       "  </tbody>\n",
       "</table>\n",
       "<p>80 rows × 4 columns</p>\n",
       "</div>"
      ],
      "text/plain": [
       "   Student_ID Course_ID  Rating         Feedback_Text\n",
       "0        S057     UX303       2        Too fast-paced\n",
       "1        S063     PY202       2    Loved the examples\n",
       "2        S022     PY202       4       Could be better\n",
       "3        S011     PY202       5     Needs improvement\n",
       "4        S073     WD404       4       Could be better\n",
       "..        ...       ...     ...                   ...\n",
       "75       S087     DM101       1       Well structured\n",
       "76       S065     DM101       4    Loved the examples\n",
       "77       S082     WD404       2        Too fast-paced\n",
       "78       S067     DM101       5  Excellent instructor\n",
       "79       S002     PY202       3       Well structured\n",
       "\n",
       "[80 rows x 4 columns]"
      ]
     },
     "execution_count": 319,
     "metadata": {},
     "output_type": "execute_result"
    }
   ],
   "source": [
    "Feedback = pd.read_csv('feedback.csv')\n",
    "Feedback"
   ]
  },
  {
   "cell_type": "markdown",
   "id": "c2b8b736-d89e-4bb5-816e-2be82046c148",
   "metadata": {},
   "source": [
    "Using `Feedback.info()` to inspect the dataset. This helps verify that each column has the appropriate data type, identify the number of rows and columns, and check for any null values."
   ]
  },
  {
   "cell_type": "code",
   "execution_count": 322,
   "id": "8d391bad-4567-4751-983e-2c0027315c94",
   "metadata": {},
   "outputs": [
    {
     "name": "stdout",
     "output_type": "stream",
     "text": [
      "<class 'pandas.core.frame.DataFrame'>\n",
      "RangeIndex: 80 entries, 0 to 79\n",
      "Data columns (total 4 columns):\n",
      " #   Column         Non-Null Count  Dtype \n",
      "---  ------         --------------  ----- \n",
      " 0   Student_ID     80 non-null     object\n",
      " 1   Course_ID      80 non-null     object\n",
      " 2   Rating         80 non-null     int64 \n",
      " 3   Feedback_Text  80 non-null     object\n",
      "dtypes: int64(1), object(3)\n",
      "memory usage: 2.6+ KB\n"
     ]
    }
   ],
   "source": [
    "Feedback.info()"
   ]
  },
  {
   "cell_type": "markdown",
   "id": "c41d5461-7f8e-407d-99bd-7cbe08c71152",
   "metadata": {},
   "source": [
    "checking for null values"
   ]
  },
  {
   "cell_type": "code",
   "execution_count": 325,
   "id": "6bf56af1-6227-483e-a086-1e53f566822f",
   "metadata": {},
   "outputs": [
    {
     "data": {
      "text/plain": [
       "Student_ID       0\n",
       "Course_ID        0\n",
       "Rating           0\n",
       "Feedback_Text    0\n",
       "dtype: int64"
      ]
     },
     "execution_count": 325,
     "metadata": {},
     "output_type": "execute_result"
    }
   ],
   "source": [
    "Feedback.isnull().sum()"
   ]
  },
  {
   "cell_type": "markdown",
   "id": "ac3f6ae4-c42b-4a68-8d28-04b95206b72b",
   "metadata": {},
   "source": [
    "Checking for duplicate values in the feedback dataset"
   ]
  },
  {
   "cell_type": "code",
   "execution_count": 328,
   "id": "d71ecb06-2d38-4bac-984d-4b94f1e4634d",
   "metadata": {},
   "outputs": [
    {
     "data": {
      "text/plain": [
       "0"
      ]
     },
     "execution_count": 328,
     "metadata": {},
     "output_type": "execute_result"
    }
   ],
   "source": [
    "Feedback.duplicated().sum()"
   ]
  },
  {
   "cell_type": "markdown",
   "id": "30976ec9-3b6d-4472-80ba-41c54a9f952c",
   "metadata": {},
   "source": [
    "No duplicate or null values found"
   ]
  },
  {
   "cell_type": "markdown",
   "id": "12e47e41-428a-4941-acd6-93f0b51d9884",
   "metadata": {},
   "source": [
    "## Exploratory Data Analysis"
   ]
  },
  {
   "cell_type": "markdown",
   "id": "22c0fb6b-bf93-41a4-8514-c112f658b720",
   "metadata": {},
   "source": [
    "### •\tWhat is the overall average completion rate across courses?"
   ]
  },
  {
   "cell_type": "markdown",
   "id": "efdf6f20-fc12-4f33-a5fc-0833eb654ae2",
   "metadata": {},
   "source": [
    "The information on the completion percenatge exists in the Course_activity data "
   ]
  },
  {
   "cell_type": "code",
   "execution_count": 334,
   "id": "e2bf48b9-d450-4ef5-871c-699572d14a2c",
   "metadata": {},
   "outputs": [
    {
     "name": "stdout",
     "output_type": "stream",
     "text": [
      "The overall average completion rate across all courses is 54.78%\n"
     ]
    }
   ],
   "source": [
    "avg_completion = Course_activity['Completion_Percentage'].mean()\n",
    "print(f\"The overall average completion rate across all courses is {avg_completion:.2f}%\")"
   ]
  },
  {
   "cell_type": "markdown",
   "id": "59ea15d9-dff3-4b75-9d60-ec65b3f0afb1",
   "metadata": {},
   "source": [
    "Let's also check the Completion rate per course"
   ]
  },
  {
   "cell_type": "code",
   "execution_count": 337,
   "id": "b264e96c-cee9-4602-b2fd-4617c10857c3",
   "metadata": {},
   "outputs": [
    {
     "name": "stdout",
     "output_type": "stream",
     "text": [
      "The average completion rate per course is as follows:\n",
      "  Course_ID\n",
      "DM101    52.62\n",
      "PY202    56.10\n",
      "UX303    56.16\n",
      "WD404    54.14\n",
      "Name: Completion_Percentage, dtype: float64\n"
     ]
    }
   ],
   "source": [
    "avg_course = Course_activity.groupby('Course_ID')['Completion_Percentage'].mean().round(2)\n",
    "print(\"The average completion rate per course is as follows:\\n \", avg_course)"
   ]
  },
  {
   "cell_type": "markdown",
   "id": "53716897-a4eb-400b-8baa-d8e660e2a929",
   "metadata": {},
   "source": [
    "### •\tWhich course has the highest and lowest average engagement time?"
   ]
  },
  {
   "cell_type": "markdown",
   "id": "89a160ae-a4ec-4218-95cb-8c3abaeebea4",
   "metadata": {},
   "source": [
    "To identify the courses with the highest and lowest average engagement time, we use the `Course_Activity` DataFrame. By applying the `min()` and `max()` functions on the average engagement data, we can determine the courses with the least and most engagement.\r\n",
    "\r\n",
    "Grouping the data by course enables aggregate operations—such as `mean()`—to be performed on each group for meaningful insight.\r\n"
   ]
  },
  {
   "cell_type": "code",
   "execution_count": 341,
   "id": "52949ec3-3067-4564-a7f7-c4348d5ec851",
   "metadata": {},
   "outputs": [
    {
     "name": "stdout",
     "output_type": "stream",
     "text": [
      " Course which has the highest average engagement time is DM101 with 102.43 minutes\n",
      " Course whcih has the lowest average engagement time is PY202 with 93.9 minutes\n"
     ]
    }
   ],
   "source": [
    "Engagement = Course_activity.groupby('Course_ID')['Time_Spent_Minutes'].mean().round(2)\n",
    "\n",
    "max_course = Engagement.idxmax()\n",
    "max_value = Engagement.max()\n",
    "\n",
    "min_course = Engagement.idxmin()\n",
    "min_value = Engagement.min()\n",
    "\n",
    "print(f\" Course which has the highest average engagement time is {max_course} with {max_value} minutes\")\n",
    "print(f\" Course whcih has the lowest average engagement time is {min_course} with {min_value} minutes\")"
   ]
  },
  {
   "cell_type": "markdown",
   "id": "386a3226-f646-4972-b39e-42206bf5ecc1",
   "metadata": {},
   "source": [
    "### •\tHow does engagement differ by age group or location?"
   ]
  },
  {
   "cell_type": "markdown",
   "id": "718251c9-fe26-4cba-b096-6e9b5b318bdc",
   "metadata": {},
   "source": [
    "We begin by categorizing users into three age groups: young adults, mid-20s to late-20s, and early 30s.  \r\n",
    "Next, we calculate the average time spent and average course completion percentage for each age group to analyze engagement patterns\r\n"
   ]
  },
  {
   "cell_type": "code",
   "execution_count": 345,
   "id": "ea9d7b4c-7a4a-4bb7-8cfd-733bd4b4cfb2",
   "metadata": {},
   "outputs": [
    {
     "data": {
      "text/html": [
       "<div>\n",
       "<style scoped>\n",
       "    .dataframe tbody tr th:only-of-type {\n",
       "        vertical-align: middle;\n",
       "    }\n",
       "\n",
       "    .dataframe tbody tr th {\n",
       "        vertical-align: top;\n",
       "    }\n",
       "\n",
       "    .dataframe thead th {\n",
       "        text-align: right;\n",
       "    }\n",
       "</style>\n",
       "<table border=\"1\" class=\"dataframe\">\n",
       "  <thead>\n",
       "    <tr style=\"text-align: right;\">\n",
       "      <th></th>\n",
       "      <th>Age_Group</th>\n",
       "      <th>Average_Time_Spent</th>\n",
       "      <th>Avg_Completion_Percentage</th>\n",
       "      <th>Students_Count</th>\n",
       "    </tr>\n",
       "  </thead>\n",
       "  <tbody>\n",
       "    <tr>\n",
       "      <th>0</th>\n",
       "      <td>18-23</td>\n",
       "      <td>101.68</td>\n",
       "      <td>53.35</td>\n",
       "      <td>35</td>\n",
       "    </tr>\n",
       "    <tr>\n",
       "      <th>1</th>\n",
       "      <td>24-29</td>\n",
       "      <td>96.75</td>\n",
       "      <td>54.80</td>\n",
       "      <td>41</td>\n",
       "    </tr>\n",
       "    <tr>\n",
       "      <th>2</th>\n",
       "      <td>30-34</td>\n",
       "      <td>95.53</td>\n",
       "      <td>56.71</td>\n",
       "      <td>24</td>\n",
       "    </tr>\n",
       "  </tbody>\n",
       "</table>\n",
       "</div>"
      ],
      "text/plain": [
       "  Age_Group  Average_Time_Spent  Avg_Completion_Percentage  Students_Count\n",
       "0     18-23              101.68                      53.35              35\n",
       "1     24-29               96.75                      54.80              41\n",
       "2     30-34               95.53                      56.71              24"
      ]
     },
     "execution_count": 345,
     "metadata": {},
     "output_type": "execute_result"
    }
   ],
   "source": [
    "def category(age):\n",
    "    if 18 <= age <= 23:\n",
    "        return '18-23'\n",
    "    elif 24 <= age <= 29:\n",
    "        return '24-29'\n",
    "    elif 30 <= age <= 34:\n",
    "        return '30-34'\n",
    "    else:\n",
    "        return 'Other'\n",
    "\n",
    "Students['Age_Group'] = Students['Age'].apply(category)\n",
    "\n",
    "Merged_Table = pd.merge(Course_activity, Students, on='Student_ID')\n",
    "\n",
    "engagement_by_age = Merged_Table.groupby('Age_Group').agg(\n",
    "    Average_Time_Spent=('Time_Spent_Minutes', 'mean'),\n",
    "    Avg_Completion_Percentage=('Completion_Percentage', 'mean'),\n",
    "     Students_Count=('Student_ID', 'nunique')\n",
    ").reset_index().sort_values('Age_Group')\n",
    "\n",
    "engagement_by_age[['Average_Time_Spent', 'Avg_Completion_Percentage']] = engagement_by_age[['Average_Time_Spent', 'Avg_Completion_Percentage']].round(2)\n",
    "\n",
    "engagement_by_age"
   ]
  },
  {
   "cell_type": "markdown",
   "id": "203871d4-e6f6-427e-a49e-906ac00c32b9",
   "metadata": {},
   "source": [
    "Now, we are Calculating the average time spent and average course completion percentage for each location to analyze engagement patterns"
   ]
  },
  {
   "cell_type": "code",
   "execution_count": 348,
   "id": "3d3be19a-965a-45bc-b6e9-6749c0a59fd3",
   "metadata": {},
   "outputs": [
    {
     "data": {
      "text/html": [
       "<div>\n",
       "<style scoped>\n",
       "    .dataframe tbody tr th:only-of-type {\n",
       "        vertical-align: middle;\n",
       "    }\n",
       "\n",
       "    .dataframe tbody tr th {\n",
       "        vertical-align: top;\n",
       "    }\n",
       "\n",
       "    .dataframe thead th {\n",
       "        text-align: right;\n",
       "    }\n",
       "</style>\n",
       "<table border=\"1\" class=\"dataframe\">\n",
       "  <thead>\n",
       "    <tr style=\"text-align: right;\">\n",
       "      <th></th>\n",
       "      <th>Location</th>\n",
       "      <th>Avg_Time_Spent</th>\n",
       "      <th>Avg_Completion_Percentage</th>\n",
       "      <th>Students_Count</th>\n",
       "    </tr>\n",
       "  </thead>\n",
       "  <tbody>\n",
       "    <tr>\n",
       "      <th>0</th>\n",
       "      <td>Bangalore</td>\n",
       "      <td>98.00</td>\n",
       "      <td>53.12</td>\n",
       "      <td>26</td>\n",
       "    </tr>\n",
       "    <tr>\n",
       "      <th>1</th>\n",
       "      <td>Chennai</td>\n",
       "      <td>90.95</td>\n",
       "      <td>53.60</td>\n",
       "      <td>25</td>\n",
       "    </tr>\n",
       "    <tr>\n",
       "      <th>2</th>\n",
       "      <td>Delhi</td>\n",
       "      <td>103.30</td>\n",
       "      <td>55.78</td>\n",
       "      <td>25</td>\n",
       "    </tr>\n",
       "    <tr>\n",
       "      <th>3</th>\n",
       "      <td>Kolkata</td>\n",
       "      <td>104.38</td>\n",
       "      <td>56.36</td>\n",
       "      <td>13</td>\n",
       "    </tr>\n",
       "    <tr>\n",
       "      <th>4</th>\n",
       "      <td>Mumbai</td>\n",
       "      <td>95.44</td>\n",
       "      <td>57.85</td>\n",
       "      <td>11</td>\n",
       "    </tr>\n",
       "  </tbody>\n",
       "</table>\n",
       "</div>"
      ],
      "text/plain": [
       "    Location  Avg_Time_Spent  Avg_Completion_Percentage  Students_Count\n",
       "0  Bangalore           98.00                      53.12              26\n",
       "1    Chennai           90.95                      53.60              25\n",
       "2      Delhi          103.30                      55.78              25\n",
       "3    Kolkata          104.38                      56.36              13\n",
       "4     Mumbai           95.44                      57.85              11"
      ]
     },
     "execution_count": 348,
     "metadata": {},
     "output_type": "execute_result"
    }
   ],
   "source": [
    "engagement_by_location = Merged_Table.groupby('Location').agg(\n",
    "    Avg_Time_Spent=('Time_Spent_Minutes', 'mean'),\n",
    "    Avg_Completion_Percentage=('Completion_Percentage', 'mean'),\n",
    "    Students_Count=('Student_ID', 'nunique')\n",
    ").reset_index().sort_values('Location')\n",
    "\n",
    "engagement_by_location[['Avg_Time_Spent', 'Avg_Completion_Percentage']] = engagement_by_location[['Avg_Time_Spent', 'Avg_Completion_Percentage']].round(2)\n",
    "\n",
    "engagement_by_location"
   ]
  },
  {
   "cell_type": "code",
   "execution_count": 350,
   "id": "dc949f0a-d78c-495b-affd-4b35b279dd32",
   "metadata": {},
   "outputs": [],
   "source": [
    "engagement_by_age['Average_completion_efficiency'] = (\n",
    "    engagement_by_age['Avg_Completion_Percentage'] / engagement_by_age['Average_Time_Spent']*100).round(2)"
   ]
  },
  {
   "cell_type": "markdown",
   "id": "ca1d2a8a-a170-4a44-bce8-d678c1d97882",
   "metadata": {},
   "source": [
    "Since the average time spent and average completion percentage alone do not provide enough insight into how engagement differs by age group, we will also compute:\r\n",
    "- `Avg_Completion_Efficiency`: a metric to evaluate how efficiently students complete the course.\r\n",
    "- `Engagement_Score`: a combined metric to better understand overall engagement.\r\n",
    "\r\n",
    "These additional calculations will help in forming a more comprehensive understanding of engagement by age grup.\r\n"
   ]
  },
  {
   "cell_type": "code",
   "execution_count": 353,
   "id": "c71152ec-811d-485e-b961-ed351d441fe9",
   "metadata": {},
   "outputs": [
    {
     "data": {
      "text/html": [
       "<div>\n",
       "<style scoped>\n",
       "    .dataframe tbody tr th:only-of-type {\n",
       "        vertical-align: middle;\n",
       "    }\n",
       "\n",
       "    .dataframe tbody tr th {\n",
       "        vertical-align: top;\n",
       "    }\n",
       "\n",
       "    .dataframe thead th {\n",
       "        text-align: right;\n",
       "    }\n",
       "</style>\n",
       "<table border=\"1\" class=\"dataframe\">\n",
       "  <thead>\n",
       "    <tr style=\"text-align: right;\">\n",
       "      <th></th>\n",
       "      <th>Age_Group</th>\n",
       "      <th>Average_Time_Spent</th>\n",
       "      <th>Avg_Completion_Percentage</th>\n",
       "      <th>Average_completion_efficiency</th>\n",
       "      <th>Engagement_Score</th>\n",
       "    </tr>\n",
       "  </thead>\n",
       "  <tbody>\n",
       "    <tr>\n",
       "      <th>0</th>\n",
       "      <td>18-23</td>\n",
       "      <td>101.68</td>\n",
       "      <td>53.35</td>\n",
       "      <td>52.47</td>\n",
       "      <td>0.50</td>\n",
       "    </tr>\n",
       "    <tr>\n",
       "      <th>1</th>\n",
       "      <td>24-29</td>\n",
       "      <td>96.75</td>\n",
       "      <td>54.80</td>\n",
       "      <td>56.64</td>\n",
       "      <td>0.31</td>\n",
       "    </tr>\n",
       "    <tr>\n",
       "      <th>2</th>\n",
       "      <td>30-34</td>\n",
       "      <td>95.53</td>\n",
       "      <td>56.71</td>\n",
       "      <td>59.36</td>\n",
       "      <td>0.50</td>\n",
       "    </tr>\n",
       "  </tbody>\n",
       "</table>\n",
       "</div>"
      ],
      "text/plain": [
       "  Age_Group  Average_Time_Spent  Avg_Completion_Percentage  \\\n",
       "0     18-23              101.68                      53.35   \n",
       "1     24-29               96.75                      54.80   \n",
       "2     30-34               95.53                      56.71   \n",
       "\n",
       "   Average_completion_efficiency  Engagement_Score  \n",
       "0                          52.47              0.50  \n",
       "1                          56.64              0.31  \n",
       "2                          59.36              0.50  "
      ]
     },
     "execution_count": 353,
     "metadata": {},
     "output_type": "execute_result"
    }
   ],
   "source": [
    "from sklearn.preprocessing import MinMaxScaler\n",
    "\n",
    "df = engagement_by_age.copy()\n",
    "\n",
    "scaler = MinMaxScaler()\n",
    "df[['Normalized_Time', 'Normalized_Completion']] = scaler.fit_transform(\n",
    "    df[['Average_Time_Spent', 'Avg_Completion_Percentage']])\n",
    "\n",
    "df['Engagement_Score'] = ((df['Normalized_Time'] + df['Normalized_Completion']) / 2).round(2)\n",
    "\n",
    "df[['Age_Group', 'Average_Time_Spent', 'Avg_Completion_Percentage',\n",
    "    'Average_completion_efficiency', 'Engagement_Score']]"
   ]
  },
  {
   "cell_type": "markdown",
   "id": "9bfb3484-fc8e-446b-beae-5fd9ade80604",
   "metadata": {},
   "source": [
    "##### Since 2 age groups has the same engagemnet score, let's consider the Average completion efficiency percentage as well to arrive at a better conclusion. The 30–34 age group demonstrates the highest quality engagement — they are not just participating more, but doing so more effectively. The 18–23 group is also quite engaged but less efficient, while the 24–29 group, though less engaged, makes better use of their time than the youngest group."
   ]
  },
  {
   "cell_type": "code",
   "execution_count": 356,
   "id": "decfd1f2-6939-4238-a888-f85cd5216b45",
   "metadata": {},
   "outputs": [],
   "source": [
    "engagement_by_location['Average_completion_efficiency'] = (\n",
    "    engagement_by_location['Avg_Completion_Percentage'] / engagement_by_location['Avg_Time_Spent']*100).round(2)"
   ]
  },
  {
   "cell_type": "markdown",
   "id": "b4b7cab4-8fe1-4a78-a67c-922760bff47d",
   "metadata": {},
   "source": [
    "Since the average time spent and average completion percentage alone do not provide enough insight into how engagement differs by location, we will also compute:\r\n",
    "- `Avg_Completion_Efficiency`: a metric to evaluate how efficiently students complete the course.\r\n",
    "- `Engagement_Score`: a combined metric to better understand overall engagement.\r\n",
    "\r\n",
    "These additional calculations will help in forming a more comprehensive understanding of engagementlocationrup.\r\n"
   ]
  },
  {
   "cell_type": "code",
   "execution_count": 359,
   "id": "10a4460a-7539-4087-971a-9aa7bf4ae537",
   "metadata": {},
   "outputs": [
    {
     "data": {
      "text/html": [
       "<div>\n",
       "<style scoped>\n",
       "    .dataframe tbody tr th:only-of-type {\n",
       "        vertical-align: middle;\n",
       "    }\n",
       "\n",
       "    .dataframe tbody tr th {\n",
       "        vertical-align: top;\n",
       "    }\n",
       "\n",
       "    .dataframe thead th {\n",
       "        text-align: right;\n",
       "    }\n",
       "</style>\n",
       "<table border=\"1\" class=\"dataframe\">\n",
       "  <thead>\n",
       "    <tr style=\"text-align: right;\">\n",
       "      <th></th>\n",
       "      <th>Location</th>\n",
       "      <th>Avg_Time_Spent</th>\n",
       "      <th>Avg_Completion_Percentage</th>\n",
       "      <th>Average_completion_efficiency</th>\n",
       "      <th>Engagement_Score</th>\n",
       "    </tr>\n",
       "  </thead>\n",
       "  <tbody>\n",
       "    <tr>\n",
       "      <th>0</th>\n",
       "      <td>Bangalore</td>\n",
       "      <td>98.00</td>\n",
       "      <td>53.12</td>\n",
       "      <td>54.20</td>\n",
       "      <td>0.26</td>\n",
       "    </tr>\n",
       "    <tr>\n",
       "      <th>1</th>\n",
       "      <td>Chennai</td>\n",
       "      <td>90.95</td>\n",
       "      <td>53.60</td>\n",
       "      <td>58.93</td>\n",
       "      <td>0.05</td>\n",
       "    </tr>\n",
       "    <tr>\n",
       "      <th>2</th>\n",
       "      <td>Delhi</td>\n",
       "      <td>103.30</td>\n",
       "      <td>55.78</td>\n",
       "      <td>54.00</td>\n",
       "      <td>0.74</td>\n",
       "    </tr>\n",
       "    <tr>\n",
       "      <th>3</th>\n",
       "      <td>Kolkata</td>\n",
       "      <td>104.38</td>\n",
       "      <td>56.36</td>\n",
       "      <td>54.00</td>\n",
       "      <td>0.84</td>\n",
       "    </tr>\n",
       "    <tr>\n",
       "      <th>4</th>\n",
       "      <td>Mumbai</td>\n",
       "      <td>95.44</td>\n",
       "      <td>57.85</td>\n",
       "      <td>60.61</td>\n",
       "      <td>0.67</td>\n",
       "    </tr>\n",
       "  </tbody>\n",
       "</table>\n",
       "</div>"
      ],
      "text/plain": [
       "    Location  Avg_Time_Spent  Avg_Completion_Percentage  \\\n",
       "0  Bangalore           98.00                      53.12   \n",
       "1    Chennai           90.95                      53.60   \n",
       "2      Delhi          103.30                      55.78   \n",
       "3    Kolkata          104.38                      56.36   \n",
       "4     Mumbai           95.44                      57.85   \n",
       "\n",
       "   Average_completion_efficiency  Engagement_Score  \n",
       "0                          54.20              0.26  \n",
       "1                          58.93              0.05  \n",
       "2                          54.00              0.74  \n",
       "3                          54.00              0.84  \n",
       "4                          60.61              0.67  "
      ]
     },
     "execution_count": 359,
     "metadata": {},
     "output_type": "execute_result"
    }
   ],
   "source": [
    "df1 = engagement_by_location.copy()\n",
    "\n",
    "scaler = MinMaxScaler()\n",
    "df1[['Normalized_Time', 'Normalized_Completion']] = scaler.fit_transform(\n",
    "    df1[['Avg_Time_Spent', 'Avg_Completion_Percentage']])\n",
    "\n",
    "df1['Engagement_Score'] = ((df1['Normalized_Time'] + df1['Normalized_Completion']) / 2).round(2)\n",
    "\n",
    "df1[['Location', 'Avg_Time_Spent', 'Avg_Completion_Percentage',\n",
    "    'Average_completion_efficiency', 'Engagement_Score']]"
   ]
  },
  {
   "cell_type": "markdown",
   "id": "b9f22e6d-ef12-4070-ba90-03c49b80e5c5",
   "metadata": {},
   "source": [
    "##### Kolkata has the highest engagement score, which means people there are the most active. Delhi and Mumbai also have good engagement, but not as high as Kolkata. People in Bangalore are less engaged, and Chennai has the lowest engagement score. This shows that users in Kolkata, Delhi, and Mumbai are more involved, while users in Bangalore and Chennai are less active."
   ]
  },
  {
   "cell_type": "markdown",
   "id": "286ee674-40de-4fb4-b222-d80dec3b1932",
   "metadata": {},
   "source": [
    "### •\tWhat is the average feedback rating per course?"
   ]
  },
  {
   "cell_type": "markdown",
   "id": "f97d556e-c717-4e62-8945-fa895684bd91",
   "metadata": {},
   "source": [
    "This line groups the data by one or more keys, allowing aggregate operations like sum, mean, etc., on each group."
   ]
  },
  {
   "cell_type": "code",
   "execution_count": 364,
   "id": "ce7eb439-d284-44cc-97d6-b92d74a4ef11",
   "metadata": {},
   "outputs": [
    {
     "data": {
      "text/html": [
       "<div>\n",
       "<style scoped>\n",
       "    .dataframe tbody tr th:only-of-type {\n",
       "        vertical-align: middle;\n",
       "    }\n",
       "\n",
       "    .dataframe tbody tr th {\n",
       "        vertical-align: top;\n",
       "    }\n",
       "\n",
       "    .dataframe thead th {\n",
       "        text-align: right;\n",
       "    }\n",
       "</style>\n",
       "<table border=\"1\" class=\"dataframe\">\n",
       "  <thead>\n",
       "    <tr style=\"text-align: right;\">\n",
       "      <th></th>\n",
       "      <th>Course_ID</th>\n",
       "      <th>Average_Rating</th>\n",
       "    </tr>\n",
       "  </thead>\n",
       "  <tbody>\n",
       "    <tr>\n",
       "      <th>0</th>\n",
       "      <td>DM101</td>\n",
       "      <td>2.90</td>\n",
       "    </tr>\n",
       "    <tr>\n",
       "      <th>1</th>\n",
       "      <td>PY202</td>\n",
       "      <td>3.28</td>\n",
       "    </tr>\n",
       "    <tr>\n",
       "      <th>2</th>\n",
       "      <td>UX303</td>\n",
       "      <td>2.92</td>\n",
       "    </tr>\n",
       "    <tr>\n",
       "      <th>3</th>\n",
       "      <td>WD404</td>\n",
       "      <td>2.79</td>\n",
       "    </tr>\n",
       "  </tbody>\n",
       "</table>\n",
       "</div>"
      ],
      "text/plain": [
       "  Course_ID  Average_Rating\n",
       "0     DM101            2.90\n",
       "1     PY202            3.28\n",
       "2     UX303            2.92\n",
       "3     WD404            2.79"
      ]
     },
     "execution_count": 364,
     "metadata": {},
     "output_type": "execute_result"
    }
   ],
   "source": [
    "Course_rating = Feedback.groupby('Course_ID')[['Rating']].mean().round(2).reset_index()\n",
    "Course_rating.rename(columns={'Rating': 'Average_Rating'}, inplace=True)\n",
    "Course_rating"
   ]
  },
  {
   "cell_type": "markdown",
   "id": "be48227d-ca1e-41a6-8c4b-c981388d63b4",
   "metadata": {},
   "source": [
    "### •\tIs there a correlation between completion rate and feedback rating?"
   ]
  },
  {
   "cell_type": "markdown",
   "id": "95617f21-9ab6-4d8c-ad9e-228309d193ff",
   "metadata": {},
   "source": [
    "Since the completion rate is available in the `Course_Activity` table and the feedback rating data exists in the `Feedback` table, we will first merge these two tables to consolidate the necessary information for analysis.\n"
   ]
  },
  {
   "cell_type": "code",
   "execution_count": 368,
   "id": "3cd17f65-42f3-4fa6-a550-63672c606c6e",
   "metadata": {},
   "outputs": [],
   "source": [
    "Merged_Table1 = pd.merge(Course_activity, Feedback, on=['Course_ID', 'Student_ID'])"
   ]
  },
  {
   "cell_type": "code",
   "execution_count": 370,
   "id": "01403df2-6640-4030-a36a-595839b89a87",
   "metadata": {},
   "outputs": [
    {
     "data": {
      "text/html": [
       "<div>\n",
       "<style scoped>\n",
       "    .dataframe tbody tr th:only-of-type {\n",
       "        vertical-align: middle;\n",
       "    }\n",
       "\n",
       "    .dataframe tbody tr th {\n",
       "        vertical-align: top;\n",
       "    }\n",
       "\n",
       "    .dataframe thead th {\n",
       "        text-align: right;\n",
       "    }\n",
       "</style>\n",
       "<table border=\"1\" class=\"dataframe\">\n",
       "  <thead>\n",
       "    <tr style=\"text-align: right;\">\n",
       "      <th></th>\n",
       "      <th>Student_ID</th>\n",
       "      <th>Course_ID</th>\n",
       "      <th>Date</th>\n",
       "      <th>Time_Spent_Minutes</th>\n",
       "      <th>Completion_Percentage</th>\n",
       "      <th>Rating</th>\n",
       "      <th>Feedback_Text</th>\n",
       "    </tr>\n",
       "  </thead>\n",
       "  <tbody>\n",
       "    <tr>\n",
       "      <th>0</th>\n",
       "      <td>S002</td>\n",
       "      <td>PY202</td>\n",
       "      <td>2024-02-03</td>\n",
       "      <td>45</td>\n",
       "      <td>32.20</td>\n",
       "      <td>3</td>\n",
       "      <td>Well structured</td>\n",
       "    </tr>\n",
       "    <tr>\n",
       "      <th>1</th>\n",
       "      <td>S002</td>\n",
       "      <td>PY202</td>\n",
       "      <td>2024-03-06</td>\n",
       "      <td>136</td>\n",
       "      <td>18.18</td>\n",
       "      <td>3</td>\n",
       "      <td>Well structured</td>\n",
       "    </tr>\n",
       "    <tr>\n",
       "      <th>2</th>\n",
       "      <td>S005</td>\n",
       "      <td>DM101</td>\n",
       "      <td>2024-01-30</td>\n",
       "      <td>27</td>\n",
       "      <td>91.49</td>\n",
       "      <td>4</td>\n",
       "      <td>Loved the examples</td>\n",
       "    </tr>\n",
       "    <tr>\n",
       "      <th>3</th>\n",
       "      <td>S006</td>\n",
       "      <td>DM101</td>\n",
       "      <td>2024-03-27</td>\n",
       "      <td>177</td>\n",
       "      <td>98.57</td>\n",
       "      <td>1</td>\n",
       "      <td>Loved the examples</td>\n",
       "    </tr>\n",
       "    <tr>\n",
       "      <th>4</th>\n",
       "      <td>S006</td>\n",
       "      <td>DM101</td>\n",
       "      <td>2024-01-08</td>\n",
       "      <td>113</td>\n",
       "      <td>75.54</td>\n",
       "      <td>1</td>\n",
       "      <td>Loved the examples</td>\n",
       "    </tr>\n",
       "    <tr>\n",
       "      <th>...</th>\n",
       "      <td>...</td>\n",
       "      <td>...</td>\n",
       "      <td>...</td>\n",
       "      <td>...</td>\n",
       "      <td>...</td>\n",
       "      <td>...</td>\n",
       "      <td>...</td>\n",
       "    </tr>\n",
       "    <tr>\n",
       "      <th>117</th>\n",
       "      <td>S095</td>\n",
       "      <td>DM101</td>\n",
       "      <td>2024-02-26</td>\n",
       "      <td>125</td>\n",
       "      <td>38.70</td>\n",
       "      <td>3</td>\n",
       "      <td>Too fast-paced</td>\n",
       "    </tr>\n",
       "    <tr>\n",
       "      <th>118</th>\n",
       "      <td>S097</td>\n",
       "      <td>PY202</td>\n",
       "      <td>2024-01-27</td>\n",
       "      <td>81</td>\n",
       "      <td>77.71</td>\n",
       "      <td>5</td>\n",
       "      <td>Loved the examples</td>\n",
       "    </tr>\n",
       "    <tr>\n",
       "      <th>119</th>\n",
       "      <td>S097</td>\n",
       "      <td>PY202</td>\n",
       "      <td>2024-02-16</td>\n",
       "      <td>93</td>\n",
       "      <td>27.74</td>\n",
       "      <td>5</td>\n",
       "      <td>Loved the examples</td>\n",
       "    </tr>\n",
       "    <tr>\n",
       "      <th>120</th>\n",
       "      <td>S099</td>\n",
       "      <td>WD404</td>\n",
       "      <td>2024-02-23</td>\n",
       "      <td>162</td>\n",
       "      <td>22.41</td>\n",
       "      <td>5</td>\n",
       "      <td>Needs improvement</td>\n",
       "    </tr>\n",
       "    <tr>\n",
       "      <th>121</th>\n",
       "      <td>S099</td>\n",
       "      <td>WD404</td>\n",
       "      <td>2024-02-24</td>\n",
       "      <td>57</td>\n",
       "      <td>53.80</td>\n",
       "      <td>5</td>\n",
       "      <td>Needs improvement</td>\n",
       "    </tr>\n",
       "  </tbody>\n",
       "</table>\n",
       "<p>122 rows × 7 columns</p>\n",
       "</div>"
      ],
      "text/plain": [
       "    Student_ID Course_ID       Date  Time_Spent_Minutes  \\\n",
       "0         S002     PY202 2024-02-03                  45   \n",
       "1         S002     PY202 2024-03-06                 136   \n",
       "2         S005     DM101 2024-01-30                  27   \n",
       "3         S006     DM101 2024-03-27                 177   \n",
       "4         S006     DM101 2024-01-08                 113   \n",
       "..         ...       ...        ...                 ...   \n",
       "117       S095     DM101 2024-02-26                 125   \n",
       "118       S097     PY202 2024-01-27                  81   \n",
       "119       S097     PY202 2024-02-16                  93   \n",
       "120       S099     WD404 2024-02-23                 162   \n",
       "121       S099     WD404 2024-02-24                  57   \n",
       "\n",
       "     Completion_Percentage  Rating       Feedback_Text  \n",
       "0                    32.20       3     Well structured  \n",
       "1                    18.18       3     Well structured  \n",
       "2                    91.49       4  Loved the examples  \n",
       "3                    98.57       1  Loved the examples  \n",
       "4                    75.54       1  Loved the examples  \n",
       "..                     ...     ...                 ...  \n",
       "117                  38.70       3      Too fast-paced  \n",
       "118                  77.71       5  Loved the examples  \n",
       "119                  27.74       5  Loved the examples  \n",
       "120                  22.41       5   Needs improvement  \n",
       "121                  53.80       5   Needs improvement  \n",
       "\n",
       "[122 rows x 7 columns]"
      ]
     },
     "execution_count": 370,
     "metadata": {},
     "output_type": "execute_result"
    }
   ],
   "source": [
    "Merged_Table1"
   ]
  },
  {
   "cell_type": "code",
   "execution_count": 372,
   "id": "5366a020-2cac-4703-91a0-dde98acb6df0",
   "metadata": {},
   "outputs": [
    {
     "name": "stdout",
     "output_type": "stream",
     "text": [
      "Pearson Correlation Coefficient: -0.052\n",
      "P-value: 5.716e-01\n",
      "No statistically significant correlation found between Completion rate and Feedback rating\n"
     ]
    }
   ],
   "source": [
    "from scipy.stats import pearsonr\n",
    "\n",
    "Correlation_coef, p_value = pearsonr(Merged_Table1['Completion_Percentage'], Merged_Table1['Rating'])\n",
    "print(f\"Pearson Correlation Coefficient: {Correlation_coef:.3f}\")\n",
    "print(f\"P-value: {p_value:.3e}\")\n",
    "\n",
    "if p_value < 0.05:\n",
    "    print(\"Yes, There is a statistically significant correlation between Completion rate and Feedback rating\")\n",
    "else:\n",
    "    print(\"No statistically significant correlation found between Completion rate and Feedback rating\")"
   ]
  },
  {
   "cell_type": "markdown",
   "id": "58f4be3b-a171-405a-9ead-90ef8e643636",
   "metadata": {},
   "source": [
    "### •\tIdentify top 3 student segments based on engagement and satisfaction."
   ]
  },
  {
   "cell_type": "markdown",
   "id": "7db3affe-e783-4c94-8a1a-c3319f0ec7b6",
   "metadata": {},
   "source": [
    "We begin by categorizing students into age groups (18–23, 24–29, 30–34, and Other), merging the `Course_activity`, `Students`, and `Feedback` tables, and grouping by `Age_Group`, `Gender`, and—if present—`Education_Level`.  \r\n",
    "Next, we calculate each segment’s average time spent, completion percentage, and feedback rating, filter out segments with fewer than five students, normalize these metrics via MinMax scaling, compute an overall engagement-satisfaction score, and select the top three segments\r\n"
   ]
  },
  {
   "cell_type": "code",
   "execution_count": 376,
   "id": "92d4b54f-a0f9-48d4-b9c5-60461e722070",
   "metadata": {},
   "outputs": [
    {
     "name": "stdout",
     "output_type": "stream",
     "text": [
      "Top 3 Student Segments Based on Engagement and Satisfaction:\n"
     ]
    },
    {
     "data": {
      "text/html": [
       "<div>\n",
       "<style scoped>\n",
       "    .dataframe tbody tr th:only-of-type {\n",
       "        vertical-align: middle;\n",
       "    }\n",
       "\n",
       "    .dataframe tbody tr th {\n",
       "        vertical-align: top;\n",
       "    }\n",
       "\n",
       "    .dataframe thead th {\n",
       "        text-align: right;\n",
       "    }\n",
       "</style>\n",
       "<table border=\"1\" class=\"dataframe\">\n",
       "  <thead>\n",
       "    <tr style=\"text-align: right;\">\n",
       "      <th></th>\n",
       "      <th>Age_Group</th>\n",
       "      <th>Gender</th>\n",
       "      <th>Avg_Time_Spent</th>\n",
       "      <th>Avg_Completion_Percentage</th>\n",
       "      <th>Avg_Rating</th>\n",
       "      <th>Engagement_Satisfaction_Score</th>\n",
       "    </tr>\n",
       "  </thead>\n",
       "  <tbody>\n",
       "    <tr>\n",
       "      <th>6</th>\n",
       "      <td>30-34</td>\n",
       "      <td>Female</td>\n",
       "      <td>111.27</td>\n",
       "      <td>66.98</td>\n",
       "      <td>3.00</td>\n",
       "      <td>0.78</td>\n",
       "    </tr>\n",
       "    <tr>\n",
       "      <th>3</th>\n",
       "      <td>24-29</td>\n",
       "      <td>Female</td>\n",
       "      <td>117.35</td>\n",
       "      <td>61.55</td>\n",
       "      <td>2.59</td>\n",
       "      <td>0.69</td>\n",
       "    </tr>\n",
       "    <tr>\n",
       "      <th>2</th>\n",
       "      <td>18-23</td>\n",
       "      <td>Other</td>\n",
       "      <td>104.40</td>\n",
       "      <td>57.93</td>\n",
       "      <td>3.80</td>\n",
       "      <td>0.68</td>\n",
       "    </tr>\n",
       "  </tbody>\n",
       "</table>\n",
       "</div>"
      ],
      "text/plain": [
       "  Age_Group  Gender  Avg_Time_Spent  Avg_Completion_Percentage  Avg_Rating  \\\n",
       "6     30-34  Female          111.27                      66.98        3.00   \n",
       "3     24-29  Female          117.35                      61.55        2.59   \n",
       "2     18-23   Other          104.40                      57.93        3.80   \n",
       "\n",
       "   Engagement_Satisfaction_Score  \n",
       "6                           0.78  \n",
       "3                           0.69  \n",
       "2                           0.68  "
      ]
     },
     "metadata": {},
     "output_type": "display_data"
    }
   ],
   "source": [
    "def category(age):\n",
    "    if 18 <= age <= 23:\n",
    "        return '18-23'\n",
    "    elif 24 <= age <= 29:\n",
    "        return '24-29'\n",
    "    elif 30 <= age <= 34:\n",
    "        return '30-34'\n",
    "    else:\n",
    "        return 'Other'\n",
    "\n",
    "Students['Age_Group'] = Students['Age'].apply(category)\n",
    "\n",
    "merged = pd.merge(Course_activity, Students, on='Student_ID')\n",
    "merged = pd.merge(merged, Feedback, on=['Student_ID', 'Course_ID'])\n",
    "\n",
    "segment_columns = ['Age_Group', 'Gender']\n",
    "if 'Education_Level' in Students.columns:\n",
    "    segment_columns.append('Education_Level')\n",
    "\n",
    "segment_stats = merged.groupby(segment_columns).agg(\n",
    "    Avg_Time_Spent=('Time_Spent_Minutes', 'mean'),\n",
    "    Avg_Completion_Percentage=('Completion_Percentage', 'mean'),\n",
    "    Avg_Rating=('Rating', 'mean'),\n",
    "    Student_Count=('Student_ID', 'count')\n",
    ").reset_index()\n",
    "\n",
    "segment_stats = segment_stats[segment_stats['Student_Count'] >= 5]\n",
    "\n",
    "scaler = MinMaxScaler()\n",
    "normed = scaler.fit_transform(segment_stats[['Avg_Time_Spent', 'Avg_Completion_Percentage', 'Avg_Rating']])\n",
    "segment_stats[['Norm_Time', 'Norm_Completion', 'Norm_Rating']] = normed\n",
    "\n",
    "segment_stats['Engagement_Satisfaction_Score'] = segment_stats[['Norm_Time', 'Norm_Completion', 'Norm_Rating']].mean(axis=1)\n",
    "\n",
    "top_segments = segment_stats.sort_values('Engagement_Satisfaction_Score', ascending=False).head(3)\n",
    "\n",
    "print(\"Top 3 Student Segments Based on Engagement and Satisfaction:\")\n",
    "display(top_segments[segment_columns + [\n",
    "    'Avg_Time_Spent', 'Avg_Completion_Percentage', 'Avg_Rating', 'Engagement_Satisfaction_Score'\n",
    "]].round(2))\n"
   ]
  }
 ],
 "metadata": {
  "kernelspec": {
   "display_name": "Python 3 (ipykernel)",
   "language": "python",
   "name": "python3"
  },
  "language_info": {
   "codemirror_mode": {
    "name": "ipython",
    "version": 3
   },
   "file_extension": ".py",
   "mimetype": "text/x-python",
   "name": "python",
   "nbconvert_exporter": "python",
   "pygments_lexer": "ipython3",
   "version": "3.12.4"
  }
 },
 "nbformat": 4,
 "nbformat_minor": 5
}
